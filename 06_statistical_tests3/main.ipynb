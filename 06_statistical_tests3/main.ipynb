{
 "cells": [
  {
   "cell_type": "code",
   "execution_count": 41,
   "id": "9a887f9d",
   "metadata": {},
   "outputs": [],
   "source": [
    "import numpy as np \n",
    "import matplotlib.pyplot as plt \n",
    "import scipy.stats as ss"
   ]
  },
  {
   "cell_type": "code",
   "execution_count": 42,
   "id": "294fe2f5",
   "metadata": {},
   "outputs": [
    {
     "data": {
      "text/plain": [
       "np.float64(0.48600362973017)"
      ]
     },
     "execution_count": 42,
     "metadata": {},
     "output_type": "execute_result"
    }
   ],
   "source": [
    "# 1 - мастер, 2 - ученик\n",
    "\n",
    "data1 = [5.0, 5.2, 5.05, 5.3]\n",
    "data2 = [4.9, 5.3, 4.95, 5.25]\n",
    "data1 = np.array(data1)\n",
    "data2 = np.array(data2)\n",
    "diff = data2 - data1\n",
    "\n",
    "diff_mean = np.mean(diff).sum()\n",
    "\n",
    "diff_std = np.sqrt(np.sum([(d - diff_mean) ** 2  for d in diff])/ (len(diff) - 1))\n",
    "\n",
    "t = diff_mean / (diff_std / np.sqrt(len(diff)))\n",
    "t, diff_mean, diff_std\n",
    "D = ss.t(len(diff) - 1)\n",
    "pv = 2 * ( 1 - D.cdf(abs(t)))\n",
    "pv"
   ]
  },
  {
   "cell_type": "code",
   "execution_count": 43,
   "id": "332d3239",
   "metadata": {},
   "outputs": [
    {
     "data": {
      "text/plain": [
       "np.float64(0.24300181486508504)"
      ]
     },
     "execution_count": 43,
     "metadata": {},
     "output_type": "execute_result"
    }
   ],
   "source": [
    "pv = D.cdf(t)\n",
    "pv"
   ]
  },
  {
   "cell_type": "markdown",
   "id": "5fe5736d",
   "metadata": {},
   "source": [
    "### Z-критерий для доли"
   ]
  },
  {
   "cell_type": "code",
   "execution_count": 44,
   "id": "4e9ae8f7",
   "metadata": {},
   "outputs": [
    {
     "data": {
      "text/plain": [
       "(np.float64(-0.22956681438339394), np.float64(0.8184283964642949))"
      ]
     },
     "execution_count": 44,
     "metadata": {},
     "output_type": "execute_result"
    }
   ],
   "source": [
    "data = np.array([[20, 9], [10, 1]])\n",
    "b = data[0, 1]\n",
    "c = data[1, 0]\n",
    "z = (b - c) / np.sqrt((b+c) - ((b - c) ** 2) / np.sum(data))\n",
    "D = ss.norm(0, 1)\n",
    "pval = 2 * (1 - D.cdf(abs(z)))\n",
    "z, pval"
   ]
  },
  {
   "cell_type": "code",
   "execution_count": 45,
   "id": "2d8eb777",
   "metadata": {},
   "outputs": [
    {
     "data": {
      "text/plain": [
       "np.float64(0.40921419823214744)"
      ]
     },
     "execution_count": 45,
     "metadata": {},
     "output_type": "execute_result"
    }
   ],
   "source": [
    "pval = D.cdf(z)\n",
    "pval\n",
    "# pval > 0.05 значит ничего не изменилось\n",
    "# для левосторонней гипотезы"
   ]
  },
  {
   "cell_type": "code",
   "execution_count": 47,
   "id": "4f78e851",
   "metadata": {},
   "outputs": [
    {
     "data": {
      "text/plain": [
       "np.float64(0.47848006035463064)"
      ]
     },
     "execution_count": 47,
     "metadata": {},
     "output_type": "execute_result"
    }
   ],
   "source": [
    "data = np.array([[5, 3], [5, 95]])\n",
    "data_sum = np.sum(data)\n",
    "b = data[0, 1]\n",
    "c = data[1, 0]\n",
    "z = (b - c) / np.sqrt((b + c) - ((b - c) ** 2) / data_sum)\n",
    "D = ss.norm(0, 1)\n",
    "pval = 2 * (1 - D.cdf(abs(z)))\n",
    "pval"
   ]
  },
  {
   "cell_type": "code",
   "execution_count": 48,
   "id": "27e2be11",
   "metadata": {},
   "outputs": [],
   "source": [
    "# Непараметрические критерии\n",
    "# До этого были параметрические"
   ]
  },
  {
   "cell_type": "markdown",
   "id": "08f1553c",
   "metadata": {},
   "source": [
    "### Одновыборочный критерий Уилкоксона"
   ]
  },
  {
   "cell_type": "code",
   "execution_count": 52,
   "id": "3be4e0b5",
   "metadata": {},
   "outputs": [
    {
     "name": "stdout",
     "output_type": "stream",
     "text": [
      "p-value two sided:  2.897719381470909e-07\n"
     ]
    }
   ],
   "source": [
    "data = (np.random.rand(100) - 0.5) + 6.98\n",
    "w, pvalue = ss.wilcoxon(data - 7.2, alternative = 'two-sided') # проверяем равен ли 7.2\n",
    "print('p-value two sided: ', pvalue)"
   ]
  },
  {
   "cell_type": "code",
   "execution_count": null,
   "id": "7827867e",
   "metadata": {},
   "outputs": [],
   "source": [
    "#Двухвыборочный критерий Мана-Уитни\n",
    "#конец"
   ]
  }
 ],
 "metadata": {
  "kernelspec": {
   "display_name": "Python 3",
   "language": "python",
   "name": "python3"
  },
  "language_info": {
   "codemirror_mode": {
    "name": "ipython",
    "version": 3
   },
   "file_extension": ".py",
   "mimetype": "text/x-python",
   "name": "python",
   "nbconvert_exporter": "python",
   "pygments_lexer": "ipython3",
   "version": "3.13.7"
  }
 },
 "nbformat": 4,
 "nbformat_minor": 5
}
