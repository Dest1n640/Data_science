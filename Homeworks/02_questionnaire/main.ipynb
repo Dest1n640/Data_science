{
 "cells": [
  {
   "cell_type": "code",
   "execution_count": 2,
   "id": "a8c77639",
   "metadata": {},
   "outputs": [],
   "source": [
    "import numpy as np \n",
    "import matplotlib.pyplot as plt \n",
    "import scipy.stats as ss"
   ]
  },
  {
   "cell_type": "code",
   "execution_count": 3,
   "id": "fab090a2",
   "metadata": {},
   "outputs": [],
   "source": [
    "opros = {}\n",
    "with open('data.txt', 'r') as f:\n",
    "    for line in f:\n",
    "        parts = line.split()\n",
    "        opros[parts[0]] = [parts[1], parts[2]]\n"
   ]
  },
  {
   "cell_type": "code",
   "execution_count": 4,
   "id": "1001635f",
   "metadata": {},
   "outputs": [
    {
     "data": {
      "text/plain": [
       "(57, 34, 21, 88)"
      ]
     },
     "execution_count": 4,
     "metadata": {},
     "output_type": "execute_result"
    }
   ],
   "source": [
    "a, b, c, d = 0, 0, 0, 0\n",
    "for i in opros:\n",
    "  value = opros.get(i)\n",
    "  if value[0] == 'Yes' and value[1] == 'No':\n",
    "    b += 1\n",
    "  elif value[0] == 'No' and value[1] == 'Yes':\n",
    "    c += 1\n",
    "  elif value[0] == 'Yes' and value[1] == 'Yes':\n",
    "    a += 1\n",
    "  else:\n",
    "    d += 1\n",
    "a, b, c, d\n",
    "    "
   ]
  },
  {
   "cell_type": "code",
   "execution_count": 5,
   "id": "0876c221",
   "metadata": {},
   "outputs": [
    {
     "data": {
      "text/plain": [
       "np.float64(0.36392067899242764)"
      ]
     },
     "execution_count": 5,
     "metadata": {},
     "output_type": "execute_result"
    }
   ],
   "source": [
    "z = (b - c) / np.sqrt(b+c) - (b - c) ** 2 / (a + b + c + d)\n",
    "D = ss.norm(0, 1)\n",
    "pval = 2 * (1 - D.cdf(z))\n",
    "pval"
   ]
  },
  {
   "cell_type": "code",
   "execution_count": 6,
   "id": "6136f26e",
   "metadata": {},
   "outputs": [
    {
     "name": "stdout",
     "output_type": "stream",
     "text": [
      "Мы с 95% увереностью можем сказать что общественное мнение от голосования1 к голосованию 2 не изменилось\n"
     ]
    }
   ],
   "source": [
    "if pval > 0.05:\n",
    "    print(\"Мы с 95% увереностью можем сказать что общественное мнение от голосования1 к голосованию 2 не изменилось\")\n",
    "else:\n",
    "    print(\"Мы с 95% увереностью можем сказать что общественное мнение от голосования1 к голосованию 2 изменилось\")"
   ]
  }
 ],
 "metadata": {
  "kernelspec": {
   "display_name": "Python 3",
   "language": "python",
   "name": "python3"
  },
  "language_info": {
   "codemirror_mode": {
    "name": "ipython",
    "version": 3
   },
   "file_extension": ".py",
   "mimetype": "text/x-python",
   "name": "python",
   "nbconvert_exporter": "python",
   "pygments_lexer": "ipython3",
   "version": "3.14.0"
  }
 },
 "nbformat": 4,
 "nbformat_minor": 5
}
