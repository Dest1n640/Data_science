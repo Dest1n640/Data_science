{
 "cells": [
  {
   "cell_type": "code",
   "execution_count": 2,
   "id": "38f8b153",
   "metadata": {},
   "outputs": [],
   "source": [
    "import numpy as np \n",
    "import scipy.stats as ss\n",
    "import matplotlib.pyplot as plt\n",
    "import scipy.stats as ss"
   ]
  },
  {
   "cell_type": "markdown",
   "id": "dc7a7688",
   "metadata": {},
   "source": [
    "# Контрльная задача\n",
    "\n",
    "Моя нейронка решает 89% задач из 100, другая 85%\n",
    "Узнать моя лучше или хуже"
   ]
  },
  {
   "cell_type": "markdown",
   "id": "458ee850",
   "metadata": {},
   "source": [
    "### 1. Z-тест для одной доли\n",
    "\n",
    "Здесь мы проверяем гипотезу о том, что доля успехов нашей нейросети (89%) статистически значимо отличается от известной доли 85%. \n",
    "\n",
    "- **Нулевая гипотеза ($H_0$)**: Истинная доля успехов нашей сети равна 85% ($p = 0.85$).\n",
    "- **Альтернативная гипотеза ($H_1$)**: Истинная доля успехов не равна 85% ($p \\neq 0.85$).\n",
    "\n",
    "Мы вычисляем Z-статистику по формуле:\n",
    "$$ Z = \\frac{\\hat{p} - p_0}{\\sqrt{\\frac{p_0(1-p_0)}{n}}} $$\n",
    "где $\\hat{p}$ — выборочная доля (0.89), $p_0$ — гипотетическая доля (0.85), $n$ — размер выборки (100).\n",
    "\n",
    "Затем мы сравниваем полученное значение `t` (1.12) с критическими значениями для уровня значимости $\\alpha=0.05$ (это -1.96 и 1.96). Поскольку `t` находится внутри этого интервала, мы не можем отвергнуть нулевую гипотезу. Это означает, что статистически значимой разницы между 89% и 85% в данном случае нет."
   ]
  },
  {
   "cell_type": "code",
   "execution_count": null,
   "id": "c20eef82",
   "metadata": {},
   "outputs": [
    {
     "name": "stdout",
     "output_type": "stream",
     "text": [
      "1.1202240672224086\n",
      "-1.9599639845400545 1.959963984540054\n",
      "Наша нейронная сеть лучше работает\n"
     ]
    }
   ],
   "source": [
    "x = 89 / 100\n",
    "n = 100\n",
    "t = (x - 0.85) / np.sqrt(0.85 * (1 - 0.85) / n) \n",
    "D = ss.norm(0, 1)\n",
    "print(t)\n",
    "print(D.ppf(0.025), D.ppf(0.975))\n",
    "if (t < D.ppf(0.025) or t > D.ppf(0.975)):\n",
    "  print(\"Наша нейронная сеть хуже работает\") # Ошибка\n",
    "else:\n",
    "  print(\"Наша нейронная сеть лучше работает\")\n",
    "  # Если попадает в диапазон, то не изменилось\n",
    "  # Если больше диапазона, то лучше \n",
    "  # Если меньше диапазона, то хуже"
   ]
  },
  {
   "cell_type": "code",
   "execution_count": 10,
   "id": "8eb48d7c",
   "metadata": {},
   "outputs": [
    {
     "name": "stdout",
     "output_type": "stream",
     "text": [
      "1.6984155512168875\n"
     ]
    }
   ],
   "source": [
    "m0 = 5\n",
    "s0 = 0.1\n",
    "n0 = 50\n",
    "m1 = 4.95\n",
    "s1 = 0.1\n",
    "n1 = 15\n",
    "z = (m0 - m1) / np.sqrt((s0 ** 2 / n0)  + (s1 ** 2 / n1))\n",
    "print(z)"
   ]
  },
  {
   "cell_type": "code",
   "execution_count": 5,
   "id": "aa6647d9",
   "metadata": {},
   "outputs": [
    {
     "data": {
      "text/plain": [
       "np.float64(0.08942935902899474)"
      ]
     },
     "execution_count": 5,
     "metadata": {},
     "output_type": "execute_result"
    }
   ],
   "source": [
    "m0 = 5\n",
    "s0 = 0.1\n",
    "n0 = 50\n",
    "m1 = 4.95\n",
    "s1 = 0.1\n",
    "n1 = 15\n",
    "z = (m0 - m1) / np.sqrt((s0 ** 2) / n0  + (s1 ** 2) / n1)\n",
    "D = ss.norm(0, 1)\n",
    "pval = (1 - D.cdf(abs(z))) * 2 #Для двухстороннего интервала\n",
    "pval"
   ]
  },
  {
   "cell_type": "code",
   "execution_count": 6,
   "id": "d81aabba",
   "metadata": {},
   "outputs": [
    {
     "data": {
      "text/plain": [
       "np.float64(0.9552853204855026)"
      ]
     },
     "execution_count": 6,
     "metadata": {},
     "output_type": "execute_result"
    }
   ],
   "source": [
    "pval = D.cdf(z)\n",
    "pval"
   ]
  },
  {
   "cell_type": "markdown",
   "id": "30a2d006",
   "metadata": {},
   "source": [
    "### 3. Расчет необходимого размера выборки\n",
    "\n",
    "Эта ячейка демонстрирует, как найти минимальный размер выборки (`n1`), необходимый для обнаружения статистически значимой разницы между двумя средними при заданных параметрах (средние, стандартные отклонения, уровень значимости).\n",
    "\n",
    "Код итерируется по разным значениям `n1` и на каждом шаге вычисляет Z-статистику. Цикл останавливается, когда абсолютное значение Z-статистики превышает критическое значение (1.96 для $\\alpha=0.05$), что указывает на достижение статистической значимости."
   ]
  },
  {
   "cell_type": "code",
   "execution_count": 7,
   "id": "63f46e3f",
   "metadata": {},
   "outputs": [
    {
     "name": "stdout",
     "output_type": "stream",
     "text": [
      "n = 23\n"
     ]
    }
   ],
   "source": [
    "m0 = 5\n",
    "s0 = 0.1\n",
    "n0 = 50\n",
    "m1 = 4.95\n",
    "s1 = 0.1\n",
    "n = 0\n",
    "\n",
    "for n1 in range(1, 100):\n",
    "  Z = (m1 - m0) / np.sqrt( ( (s1**2) / n1) + ( (s0**2) / n0) )\n",
    "  pval = (1 - ss.norm(0, 1).cdf(np.abs(Z))) * 2\n",
    "  if (abs(Z) > 1.96):\n",
    "    print(f'n = {n1}')\n",
    "    break\n",
    "  # if pval <= 0.05:\n",
    "  #   print(n1)\n",
    "  #   print(pval)\n",
    "  #   break\n"
   ]
  },
  {
   "cell_type": "markdown",
   "id": "03b76826",
   "metadata": {},
   "source": [
    "### 4. t-тест Уэлча для двух средних\n",
    "\n",
    "Этот тест используется для сравнения средних двух независимых выборок, когда нет оснований полагать, что их дисперсии равны. В отличие от Z-теста, он используется, когда дисперсии генеральной совокупности неизвестны и оцениваются по выборкам.\n",
    "\n",
    "Ключевые шаги:\n",
    "1. Вычисляется t-статистика `T`.\n",
    "2. Вычисляется количество степеней свободы `df` по формуле Уэлча-Саттертуэйта. Это значение может быть нецелым.\n",
    "3. На основе t-статистики и степеней свободы вычисляется p-value.\n",
    "\n",
    "Здесь p-value (1.73) значительно больше 0.05, что говорит об отсутствии статистически значимых различий между средними `det_m` и `det_s`."
   ]
  },
  {
   "cell_type": "code",
   "execution_count": 8,
   "id": "a423a1b7",
   "metadata": {},
   "outputs": [
    {
     "data": {
      "text/plain": [
       "(np.float64(-1.251636618749953),\n",
       " np.float64(1.7395429212120466),\n",
       " np.float64(5.598377218712051))"
      ]
     },
     "execution_count": 8,
     "metadata": {},
     "output_type": "execute_result"
    }
   ],
   "source": [
    "# t-критерий для среднего\n",
    "det_m = [5, 5.05, 5.01, 4.99, 5, 4.98]\n",
    "det_s = [4.98, 4.96, 4.9, 4.8,  5.1, 5.0]\n",
    "m0 = np.mean(det_m)\n",
    "m1 = np.mean(det_s)\n",
    "s0 = np.std(det_m)\n",
    "s1 = np.std(det_s)\n",
    "n0 = len(det_m)\n",
    "n1 = len(det_s)\n",
    "T = (m1 - m0) / np.sqrt( (s1**2 / n1) + (s0**2 / n0))\n",
    "\n",
    "df = (s1**2 / n1 + s0**2 / n0)**2 / ((s1**2 / n1)**2 / (n1 - 1)) + ((s0**2 / n0)**2 / (n0 -1))\n",
    "df\n",
    "\n",
    "D = ss.t(df)\n",
    "pval = 2 * (1 - D.cdf(T))\n",
    "T, pval, df\n",
    "#Работает только при n0 > n1 при s0 > s1"
   ]
  },
  {
   "cell_type": "code",
   "execution_count": 9,
   "id": "b53705ef",
   "metadata": {},
   "outputs": [
    {
     "data": {
      "text/plain": [
       "(-0.5240007848400233, np.float64(1.3997220060174198))"
      ]
     },
     "execution_count": 9,
     "metadata": {},
     "output_type": "execute_result"
    }
   ],
   "source": [
    "import math\n",
    "n1 = 100\n",
    "n2 = 105\n",
    "p1 = 95 / 205\n",
    "p2 = 100 / 200\n",
    "p0 = (p1 * n1 + p2 * n2) / (n1 + n2)\n",
    "z = (p1 - p2) / math.sqrt(p0 * (1 - p0) * (1 / n1 + 1 / n2))\n",
    "pval = 2 * (1 - ss.norm(0, 1).cdf(z))\n",
    "z, pval"
   ]
  },
  {
   "cell_type": "code",
   "execution_count": null,
   "id": "2a93058b",
   "metadata": {},
   "outputs": [],
   "source": []
  }
 ],
 "metadata": {
  "kernelspec": {
   "display_name": "Python 3",
   "language": "python",
   "name": "python3"
  },
  "language_info": {
   "codemirror_mode": {
    "name": "ipython",
    "version": 3
   },
   "file_extension": ".py",
   "mimetype": "text/x-python",
   "name": "python",
   "nbconvert_exporter": "python",
   "pygments_lexer": "ipython3",
   "version": "3.13.7"
  }
 },
 "nbformat": 4,
 "nbformat_minor": 5
}
